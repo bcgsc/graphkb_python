{
  "nbformat": 4,
  "nbformat_minor": 0,
  "metadata": {
    "colab": {
      "name": "pori_graphkb_python-tutorial.ipynb",
      "provenance": [],
      "collapsed_sections": [],
      "authorship_tag": "ABX9TyPsZefAkXO6sZhzyUDWur8c",
      "include_colab_link": true
    },
    "kernelspec": {
      "name": "pythonjvsc74a57bd04a7f6883d8b4c4ea9250c869e6fc6033cc88c7f8e8bca79e110c33b1152823f7",
      "display_name": "Python 3.8.3 64-bit"
    },
    "language_info": {
      "name": "python",
      "version": "3.8.3"
    },
    "metadata": {
      "interpreter": {
        "hash": "4a7f6883d8b4c4ea9250c869e6fc6033cc88c7f8e8bca79e110c33b1152823f7"
      }
    }
  },
  "cells": [
    {
      "cell_type": "markdown",
      "metadata": {
        "id": "rP6xlIsD79xj"
      },
      "source": [
        "# GraphKB Variant Matching Tutorial\n",
        "\n",
        "This tutorial is an interactive notebook which can be run using ([google colab](https://colab.research.google.com/github/bcgsc/pori_graphkb_python/blob/master/docs/pori_graphkb_python_tutorial.ipynb)) or a local jupyter server (**recommended** if matching patient data). This tutorial will cover basic matching of variants using the python GraphKB adaptor against an instance of the GraphKB API. \n",
        "\n",
        "Users must first have login credentials to an instance of GraphKB API (or use the demo server). Note for users using the demo credentials and server, the data is limited and more complete annotations would be expected for a production instance of GraphKB.\n",
        "\n",
        "For the purposes of this tutorial we will be matching the known KRAS variant `p.G12D` to the demo instance of GraphKB. You can adjust the API instance by changing the setup variables below\n",
        "\n",
        "To run this locally download this file and start the server from the command line as follows\n",
        "\n",
        "```\n",
        "jupyter notebook notebook.ipynb\n",
        "```\n",
        "\n",
        "You should now be able to see the notebook by openining `http://localhost:8888` in your browser"
      ]
    },
    {
      "cell_type": "code",
      "metadata": {
        "colab": {
          "base_uri": "https://localhost:8080/"
        },
        "id": "9fFyENVC-8ef",
        "outputId": "bf8cbf13-163d-40f7-ab40-db989e44e1a4"
      },
      "source": [
        "!pip3 install graphkb"
      ],
      "execution_count": 12,
      "outputs": [
        {
          "output_type": "stream",
          "name": "stdout",
          "text": [
            "Looking in indexes: https://pypi.bcgsc.ca/gsc/packages/\n",
            "Requirement already satisfied: graphkb in /projects/dat/workspace/creisle/graphkb/graphkb_python (1.5.1)\n",
            "Requirement already satisfied: requests<3,>=2.22.0 in /projects/dat/workspace/creisle/graphkb/graphkb_python/venv/lib/python3.8/site-packages (from graphkb) (2.22.0)\n",
            "Requirement already satisfied: typing_extensions<4,>=3.7.4.2 in /projects/dat/workspace/creisle/graphkb/graphkb_python/venv/lib/python3.8/site-packages (from graphkb) (3.7.4.2)\n",
            "Requirement already satisfied: certifi>=2017.4.17 in /projects/dat/workspace/creisle/graphkb/graphkb_python/venv/lib/python3.8/site-packages (from requests<3,>=2.22.0->graphkb) (2020.4.5.1)\n",
            "Requirement already satisfied: idna<2.9,>=2.5 in /projects/dat/workspace/creisle/graphkb/graphkb_python/venv/lib/python3.8/site-packages (from requests<3,>=2.22.0->graphkb) (2.8)\n",
            "Requirement already satisfied: chardet<3.1.0,>=3.0.2 in /projects/dat/workspace/creisle/graphkb/graphkb_python/venv/lib/python3.8/site-packages (from requests<3,>=2.22.0->graphkb) (3.0.4)\n",
            "Requirement already satisfied: urllib3!=1.25.0,!=1.25.1,<1.26,>=1.21.1 in /projects/dat/workspace/creisle/graphkb/graphkb_python/venv/lib/python3.8/site-packages (from requests<3,>=2.22.0->graphkb) (1.25.9)\n",
            "\u001b[33mWARNING: You are using pip version 19.2.3, however version 21.0.1 is available.\n",
            "You should consider upgrading via the 'pip install --upgrade pip' command.\u001b[0m\n"
          ]
        }
      ]
    },
    {
      "cell_type": "code",
      "metadata": {
        "id": "1oLFIphl784S"
      },
      "source": [
        "from graphkb import GraphKBConnection\n",
        "\n",
        "GKB_API_URL = 'https://pori-demo.bcgsc.ca/graphkb-api/api'\n",
        "GKB_USER = 'colab_demo'\n",
        "GKB_PASSWORD = 'colab_demo'\n",
        "\n",
        "graphkb_conn = GraphKBConnection(GKB_API_URL, use_global_cache=False)\n",
        "\n",
        "graphkb_conn.login(GKB_USER, GKB_PASSWORD)"
      ],
      "execution_count": 1,
      "outputs": []
    },
    {
      "cell_type": "markdown",
      "metadata": {
        "id": "OHM9uqHz_mjk"
      },
      "source": [
        "## Matching Variants\n",
        "\n",
        "Now you are ready to match variants"
      ]
    },
    {
      "cell_type": "code",
      "metadata": {
        "colab": {
          "base_uri": "https://localhost:8080/"
        },
        "id": "Z16pbBFQ_q5z",
        "outputId": "8d116ba2-303f-4f1e-a991-37a82e216719"
      },
      "source": [
        "from graphkb.match import match_positional_variant\n",
        "\n",
        "variant_name = 'KRAS:p.G12D'\n",
        "variant_matches = match_positional_variant(graphkb_conn, variant_name)\n",
        "\n",
        "print(f'{variant_name} matched {len(variant_matches)} other variant representations')\n",
        "print()\n",
        "\n",
        "for match in variant_matches:\n",
        "    print(variant_name, 'will match', match['displayName'])\n"
      ],
      "execution_count": 2,
      "outputs": [
        {
          "output_type": "stream",
          "name": "stdout",
          "text": [
            "KRAS:p.G12D matched 7 other variant representations\n\nKRAS:p.G12D will match KRAS:p.(G12_G13)mut\nKRAS:p.G12D will match KRAS:p.G12mut\nKRAS:p.G12D will match KRAS:p.G12D\nKRAS:p.G12D will match chr12:g.25398284C>T\nKRAS:p.G12D will match KRAS:p.G12\nKRAS:p.G12D will match KRAS:p.?12mut\nKRAS:p.G12D will match KRAS mutation\n"
          ]
        }
      ]
    },
    {
      "cell_type": "markdown",
      "metadata": {
        "id": "frNHL7wfBh9e"
      },
      "source": [
        "We can see above that the KRAS protein variant has been matched to a number of other less specific mentions (ex. KRAS:p.G12mut) and also genomic equivalents (chr12:g.25398284C>T). Note that the results here will be dependent on the instance of GraphKB you are accessing."
      ]
    },
    {
      "cell_type": "markdown",
      "metadata": {
        "id": "CwSqxGQMEmAH"
      },
      "source": [
        "## Annotating Variants\n",
        "\n",
        "Now that we have matched the variant we will fetch the related statements to annotate this variant with its possible relevance"
      ]
    },
    {
      "cell_type": "code",
      "metadata": {
        "colab": {
          "base_uri": "https://localhost:8080/"
        },
        "id": "4VpkF02lEuRE",
        "outputId": "7dcb92c9-5a8a-49c6-943d-68fce584d407"
      },
      "source": [
        "from graphkb.constants import BASE_RETURN_PROPERTIES, GENERIC_RETURN_PROPERTIES\n",
        "from graphkb.util import convert_to_rid_list\n",
        "\n",
        "# return properties should be customized to the users needs\n",
        "return_props = (\n",
        "    BASE_RETURN_PROPERTIES\n",
        "    + ['sourceId', 'source.name', 'source.displayName']\n",
        "    + [f'conditions.{p}' for p in GENERIC_RETURN_PROPERTIES]\n",
        "    + [f'subject.{p}' for p in GENERIC_RETURN_PROPERTIES]\n",
        "    + [f'evidence.{p}' for p in GENERIC_RETURN_PROPERTIES]\n",
        "    + [f'relevance.{p}' for p in GENERIC_RETURN_PROPERTIES]\n",
        "    + [f'evidenceLevel.{p}' for p in GENERIC_RETURN_PROPERTIES]\n",
        ")\n",
        "\n",
        "statements = graphkb_conn.query(\n",
        "    {\n",
        "        'target': 'Statement',\n",
        "        'filters': {'conditions': convert_to_rid_list(variant_matches), 'operator': 'CONTAINSANY'},\n",
        "        'returnProperties': return_props,\n",
        "    }\n",
        ")\n",
        "print(f'annotated {len(variant_matches)} variant matches with {len(statements)} statements')\n",
        "print()\n",
        "\n",
        "for statement in statements[:5]:\n",
        "    print(\n",
        "        [c['displayName'] for c in statement['conditions'] if c['@class'].endswith('Variant')],\n",
        "        statement['relevance']['displayName'],\n",
        "        statement['subject']['displayName'],\n",
        "        statement['source']['displayName'] if statement['source'] else '',\n",
        "        [c['displayName'] for c in statement['evidence']],\n",
        "    )"
      ],
      "execution_count": 3,
      "outputs": [
        {
          "output_type": "stream",
          "name": "stdout",
          "text": [
            "annotated 7 variant matches with 96 statements\n\n['KRAS:p.(G12_G13)mut'] resistance Gefitinib [c1855] CIViC ['pmid:15696205']\n['KRAS:p.(G12_G13)mut'] resistance Panitumumab [c1857] CIViC ['pmid:19223544']\n['KRAS:p.(G12_G13)mut'] resistance Cetuximab [c1723] CIViC ['pmid:19223544']\n['KRAS:p.(G12_G13)mut'] resistance Cetuximab [c1723] CIViC ['pmid:19603024']\n['KRAS:p.(G12_G13)mut'] resistance Panitumumab [c1857] CIViC ['pmid:18316791']\n"
          ]
        }
      ]
    },
    {
      "source": [
        "## Categorizing Statements\n",
        "\n",
        "Something we often want to know is if a statement is therapeutic, or prognostic, etc. The\n",
        "naive approach is to base this on a list of known terms or a regex pattern. In GraphKB we can\n",
        "leverage the ontology structure instead.\n",
        "\n",
        "In this example we will look for all terms that would indicate a therapeutically relevent statement.\n",
        "\n",
        "To do this we pick our 'base' terms. These are the terms we consider to be the highest level\n",
        "of the ontology tree, the most general term for that category."
      ],
      "cell_type": "markdown",
      "metadata": {}
    },
    {
      "cell_type": "code",
      "execution_count": 4,
      "metadata": {},
      "outputs": [
        {
          "output_type": "stream",
          "name": "stdout",
          "text": [
            "Found 13 equivalent terms\n- therapeutic efficacy\n- targetable\n- response\n- sensitivity\n- likely sensitivity\n- no sensitivity\n- no response\n- resistance\n- reduced sensitivity\n- likely resistance\n- innate resistance\n- acquired resistance\n- no resistance\n"
          ]
        }
      ],
      "source": [
        "from graphkb.vocab import get_term_tree\n",
        "\n",
        "\n",
        "BASE_THERAPEUTIC_TERMS = 'therapeutic efficacy'\n",
        "\n",
        "therapeutic_terms = get_term_tree(graphkb_conn, BASE_THERAPEUTIC_TERMS, include_superclasses=False)\n",
        "\n",
        "print(f'Found {len(therapeutic_terms)} equivalent terms')\n",
        "\n",
        "for term in therapeutic_terms:\n",
        "    print('-', term['name'])\n"
      ]
    },
    {
      "source": [
        "We can filter the statements we have already retrieved, or we can add this to our original query\n",
        "and filter before we retrive from the API"
      ],
      "cell_type": "markdown",
      "metadata": {}
    },
    {
      "cell_type": "code",
      "execution_count": 6,
      "metadata": {},
      "outputs": [
        {
          "output_type": "stream",
          "name": "stdout",
          "text": [
            "['KRAS:p.G12mut'] response mek inhibitor [c69145] CGI ['pmid:18701506']\n['KRAS:p.G12D'] sensitivity dactolisib + selumetinib CIViC ['pmid:19029981']\n['KRAS mutation'] sensitivity Decitabine [c981] CIViC ['pmid:25968887']\n['KRAS mutation'] sensitivity Trametinib [c77908] CIViC ['pmid:22169769']\n['KRAS:p.G12D'] sensitivity Akt Inhibitor MK2206 [c90581] CIViC ['pmid:22025163']\n['KRAS mutation'] sensitivity cetuximab + dasatinib CIViC ['pmid:20956938']\n['KRAS mutation'] sensitivity b-raf/vegfr-2 inhibitor raf265 + selumetinib CIViC ['pmid:25199829']\n['KRAS mutation'] sensitivity b-raf/vegfr-2 inhibitor raf265 + selumetinib CIViC ['pmid:25199829']\n['KRAS mutation'] sensitivity afatinib + trametinib CIViC ['pmid:24685132']\n['KRAS mutation'] sensitivity afatinib + trametinib CIViC ['pmid:24685132']\n['KRAS mutation'] sensitivity docetaxel + selumetinib CIViC ['pmid:23200175']\n['KRAS mutation'] sensitivity selumetinib + teprotumumab CIViC ['pmid:21985784']\n['KRAS mutation'] sensitivity MEK Inhibitor GDC-0623 [c95738] CIViC ['pmid:23934108']\n['KRAS mutation'] sensitivity Trametinib [c77908] CIViC ['pmid:22805291']\n['KRAS mutation'] sensitivity refametinib + sorafenib CIViC ['pmid:25294897']\n['KRAS:p.G12D'] sensitivity Therapeutic Tumor Infiltrating Lymphocytes [c28699] CIViC ['pmid:27959684']\n['KRAS:p.G12D'] sensitivity dactolisib + selumetinib CIViC ['pmid:22392911']\n['KRAS mutation'] sensitivity erlotinib + teprotumumab CIViC ['pmid:22025157']\n['KRAS mutation'] sensitivity abemaciclib [c97660] CIViC ['pmid:27217383']\n['KRAS mutation'] sensitivity docetaxel + pemetrexed + trametinib CIViC ['pmid:27876675']\n['KRAS mutation'] sensitivity Atezolizumab [c106250] CIViC ['pmid:28525386']\n['KRAS mutation'] sensitivity Nivolumab [c68814] CIViC ['pmid:28525386']\n['KRAS mutation'] sensitivity Immune Checkpoint Inhibitor [c143250] CIViC ['pmid:28259530']\n['KRAS mutation'] sensitivity binimetinib + palbociclib CIViC ['pmid:27167191']\n['KRAS mutation'] sensitivity Metformin [c61612] CIViC ['pmid:32444490']\n['KRAS mutation'] sensitivity Binimetinib [c84865] CIViC ['pmid:32822286']\n['KRAS:p.(G12_G13)mut'] resistance Cetuximab [c1723] CIViC ['pmid:18202412']\n['KRAS:p.(G12_G13)mut'] resistance cetuximab + chemotherapy CIViC ['pmid:20619739']\n['KRAS:p.(G12_G13)mut'] resistance Erlotinib [c65530] CIViC ['pmid:15696205']\n['KRAS:p.(G12_G13)mut'] resistance Gefitinib [c1855] CIViC ['pmid:15696205']\n['KRAS:p.(G12_G13)mut'] resistance gemcitabine + trametinib CIViC ['pmid:24915778']\n['KRAS mutation'] resistance bevacizumab + chemotherapy CIViC ['pmid:23828442']\n['KRAS mutation'] resistance ixazomib [c97940] CIViC ['pmid:26709701']\n['KRAS:p.G12D'] resistance Vemurafenib [c64768] CIViC ['pmid:26352686']\n['KRAS mutation'] resistance Cetuximab [c1723] CIViC ['pmid:22586653']\n['KRAS:p.(G12_G13)mut'] resistance Panitumumab [c1857] CIViC ['pmid:18316791']\n['KRAS:p.G12D'] resistance Panitumumab [c1857] CIViC ['pmid:20619739']\n['KRAS:p.G12D'] resistance Cetuximab [c1723] CIViC ['pmid:20619739']\n['KRAS:p.G12D'] resistance Panitumumab [c1857] CIViC ['pmid:18316791']\n['KRAS:p.G12D'] resistance Gefitinib [c1855] CIViC ['pmid:17409929']\n['KRAS mutation'] resistance Erlotinib [c65530] CIViC ['pmid:22025157']\n['KRAS:p.G12D'] resistance Melphalan [c633] CIViC ['pmid:19284554']\n['KRAS:p.G12D'] resistance Melphalan [c633] CIViC ['pmid:11050000']\n['KRAS:p.G12D'] resistance Melphalan [c633] CIViC ['pmid:12483530']\n['KRAS:p.G12D'] resistance Melphalan [c633] CIViC ['pmid:16497971']\n['KRAS mutation'] resistance Erlotinib [c65530] CIViC ['pmid:21258250']\n['KRAS mutation'] resistance Gefitinib [c1855] CIViC ['pmid:21258250']\n['KRAS mutation'] resistance docetaxel + selumetinib CIViC ['pmid:28492898']\n['KRAS mutation'] resistance cetuximab + chemotherapy CIViC ['pmid:20619739']\n['KRAS mutation'] resistance Erlotinib [c65530] CIViC ['pmid:21969500']\n['KRAS:p.G12D'] resistance Regorafenib [c78204] CIViC ['pmid:26161928']\n['KRAS:p.G12D'] resistance Vemurafenib [c64768] CIViC ['pmid:24265155']\n['KRAS:p.G12D'] resistance Cetuximab [c1723] CIViC ['pmid:22246397']\n['KRAS mutation'] resistance Panitumumab [c1857] CIViC ['pmid:28275037']\n['KRAS mutation'] resistance Cetuximab [c1723] CIViC ['pmid:28275037']\n['KRAS mutation'] resistance Vemurafenib [c64768] CIViC ['pmid:24265155']\n['KRAS mutation'] resistance Dabrafenib [c82386] CIViC ['pmid:24265155']\n['KRAS:p.(G12_G13)mut'] resistance Cetuximab [c1723] CIViC ['pmid:19603024']\n['KRAS:p.G12D'] resistance Cetuximab [c1723] CIViC ['pmid:19223544']\n['KRAS:p.G12D'] resistance Panitumumab [c1857] CIViC ['pmid:19223544']\n['KRAS:p.(G12_G13)mut'] resistance Cetuximab [c1723] CIViC ['pmid:19223544']\n['KRAS:p.(G12_G13)mut'] resistance Panitumumab [c1857] CIViC ['pmid:19223544']\n['KRAS:p.?12mut'] resistance Cetuximab [c1723] CGI ['CGI']\n['KRAS:p.?12mut'] resistance Panitumumab [c1857] CGI ['CGI']\n"
          ]
        }
      ],
      "source": [
        "statements = graphkb_conn.query(\n",
        "    {\n",
        "        'target': 'Statement',\n",
        "        'filters': {\n",
        "            'AND': [\n",
        "                {'conditions': convert_to_rid_list(variant_matches), 'operator': 'CONTAINSANY'},\n",
        "                {'relevance': convert_to_rid_list(therapeutic_terms), 'operator': 'IN'},\n",
        "            ]\n",
        "        },\n",
        "        'returnProperties': return_props,\n",
        "    }\n",
        ")\n",
        "\n",
        "for statement in statements:\n",
        "    print(\n",
        "        [c['displayName'] for c in statement['conditions'] if c['@class'].endswith('Variant')],\n",
        "        statement['relevance']['displayName'],\n",
        "        statement['subject']['displayName'],\n",
        "        statement['source']['displayName'] if statement['source'] else '',\n",
        "        [c['displayName'] for c in statement['evidence']],\n",
        "    )"
      ]
    },
    {
      "cell_type": "code",
      "execution_count": null,
      "metadata": {},
      "outputs": [],
      "source": []
    }
  ]
}
