{
  "nbformat": 4,
  "nbformat_minor": 0,
  "metadata": {
    "colab": {
      "name": "pori_graphkb_python-tutorial.ipynb",
      "provenance": [],
      "collapsed_sections": [],
      "authorship_tag": "ABX9TyOoPeT3ErK4xhSs6eF/Xjqk",
      "include_colab_link": true
    },
    "kernelspec": {
      "name": "python3",
      "display_name": "Python 3"
    },
    "language_info": {
      "name": "python"
    }
  },
  "cells": [
    {
      "cell_type": "markdown",
      "metadata": {
        "id": "view-in-github",
        "colab_type": "text"
      },
      "source": [
        "<a href=\"https://colab.research.google.com/github/bcgsc/pori_graphkb_python/blob/feature%2Fjupyter/docs/pori_graphkb_python_tutorial.ipynb\" target=\"_parent\"><img src=\"https://colab.research.google.com/assets/colab-badge.svg\" alt=\"Open In Colab\"/></a>"
      ]
    },
    {
      "cell_type": "markdown",
      "metadata": {
        "id": "rP6xlIsD79xj"
      },
      "source": [
        "# GraphKB Variant Matching Tutorial\n",
        "\n",
        "This tutorial is an interactive notebook which can be run using ([google colab](https://colab.research.google.com/drive/1JnbK3Tm9f9XhuwUqvmbXReLGk_2GuaI4?usp=sharing)) or a local jupyter server (**reccommended** if matching patient data). This tutorial will cover basic matching of variants using the python GraphKB adaptor against an instance of the GraphKB API. \n",
        "\n",
        "Users must first have login credentials to an instance of GraphKB API (or use the demo server). Note for users using the demo credentials and server, the data is limited and more complete annotations would be expected for a production instance of GraphKB.\n",
        "\n",
        "For the purposes of this tutorial we will be matching the known KRAS variant `p.G12D` to the demo instance of GraphKB. You can adjust the API instance by changing the setup variables below\n",
        "\n",
        "To run this locally download this file and start the server from the command line as follows\n",
        "\n",
        "```bash\n",
        "jupyter notebook notebook.ipynb\n",
        "```\n",
        "\n",
        "You should now be able to see the notebook by openining `http://localhost:8888` in your browser"
      ]
    },
    {
      "cell_type": "code",
      "metadata": {
        "colab": {
          "base_uri": "https://localhost:8080/"
        },
        "id": "9fFyENVC-8ef",
        "outputId": "8a406cfd-1fb3-4f71-f226-d3e2dbfc95b3"
      },
      "source": [
        "!pip3 install graphkb"
      ],
      "execution_count": null,
      "outputs": [
        {
          "output_type": "stream",
          "text": [
            "Requirement already satisfied: graphkb in /usr/local/lib/python3.7/dist-packages (1.5.2)\n",
            "Requirement already satisfied: requests<3,>=2.22.0 in /usr/local/lib/python3.7/dist-packages (from graphkb) (2.23.0)\n",
            "Requirement already satisfied: typing-extensions<4,>=3.7.4.2 in /usr/local/lib/python3.7/dist-packages (from graphkb) (3.7.4.3)\n",
            "Requirement already satisfied: certifi>=2017.4.17 in /usr/local/lib/python3.7/dist-packages (from requests<3,>=2.22.0->graphkb) (2020.12.5)\n",
            "Requirement already satisfied: chardet<4,>=3.0.2 in /usr/local/lib/python3.7/dist-packages (from requests<3,>=2.22.0->graphkb) (3.0.4)\n",
            "Requirement already satisfied: urllib3!=1.25.0,!=1.25.1,<1.26,>=1.21.1 in /usr/local/lib/python3.7/dist-packages (from requests<3,>=2.22.0->graphkb) (1.24.3)\n",
            "Requirement already satisfied: idna<3,>=2.5 in /usr/local/lib/python3.7/dist-packages (from requests<3,>=2.22.0->graphkb) (2.10)\n"
          ],
          "name": "stdout"
        }
      ]
    },
    {
      "cell_type": "code",
      "metadata": {
        "id": "1oLFIphl784S"
      },
      "source": [
        "from getpass import getpass\n",
        "\n",
        "from graphkb import GraphKBConnection\n",
        "\n",
        "GKB_API_URL = 'https://pori-demo.bcgsc.ca/graphkb-api/api'\n",
        "GKB_USER = 'colab_demo'\n",
        "GKB_PASSWORD = 'colab_demo'\n",
        "\n",
        "graphkb_conn = GraphKBConnection(GKB_API_URL, False)\n",
        "graphkb_conn.login(GKB_USER, GKB_PASSWORD)"
      ],
      "execution_count": null,
      "outputs": []
    },
    {
      "cell_type": "markdown",
      "metadata": {
        "id": "OHM9uqHz_mjk"
      },
      "source": [
        "## Matching Variants\n",
        "\n",
        "Now you are ready to match variants"
      ]
    },
    {
      "cell_type": "code",
      "metadata": {
        "colab": {
          "base_uri": "https://localhost:8080/"
        },
        "id": "Z16pbBFQ_q5z",
        "outputId": "3f32bac4-54ec-4733-ca3b-8fb40ad522dc"
      },
      "source": [
        "from graphkb.match import match_positional_variant\n",
        "\n",
        "variant_name = 'KRAS:p.G12D'\n",
        "print(vars(graphkb_conn))\n",
        "variant_matches = match_positional_variant(graphkb_conn, variant_name)\n",
        "\n",
        "print(f'{variant_name} matched {len(variant_matches)} other variant representations')\n",
        "print()\n",
        "\n",
        "for match in variant_matches:\n",
        "    print(variant_name, 'will match', match['displayName'])\n"
      ],
      "execution_count": null,
      "outputs": [
        {
          "output_type": "stream",
          "text": [
            "{'http': <requests.sessions.Session object at 0x7fee5af35350>, 'token': 'eyJhbGciOiJIUzI1NiIsInR5cCI6IkpXVCJ9.eyJleHAiOjE2MTgwMzM2NzksInVzZXIiOnsiY3JlYXRlZEF0IjoxNjE3OTk1NTc0MDU3LCJsYXN0TG9naW5BdCI6MTYxNzk5NzQ5NTIxMSwiY3JlYXRlZEJ5IjoiIzE0OjEiLCJuYW1lIjoiY29sYWJfZGVtbyIsImdyb3VwcyI6W3siY3JlYXRlZEF0IjoxNjEyNjQwMDM1Nzg2LCJwZXJtaXNzaW9ucyI6eyJMaWNlbnNlQWdyZWVtZW50Ijo0LCJUaGVyYXB5Ijo0LCJWb2NhYnVsYXJ5Ijo0LCJCaW9tYXJrZXIiOjQsIkNhdGVnb3J5VmFyaWFudCI6NCwiVXNlciI6NCwiT250b2xvZ3kiOjQsIkRpc2Vhc2UiOjQsIkUiOjQsIlBhdGh3YXkiOjQsIkluZmVycyI6NCwiQW5hdG9taWNhbEVudGl0eSI6NCwiU3ViQ2xhc3NPZiI6NCwiRmVhdHVyZSI6NCwiU291cmNlIjo0LCJVc2VyR3JvdXAiOjQsIkFsaWFzT2YiOjQsIk9wcG9zaXRlT2YiOjQsIlYiOjQsIkV2aWRlbmNlIjo0LCJFbGVtZW50T2YiOjQsIkdlbmVyYWxpemF0aW9uT2YiOjQsIlBvc2l0aW9uYWxWYXJpYW50Ijo0LCJTdGF0ZW1lbnQiOjQsIkFic3RyYWN0Ijo0LCJQdWJsaWNhdGlvbiI6NCwiQ3Jvc3NSZWZlcmVuY2VPZiI6NCwiVGFyZ2V0T2YiOjQsIkNhdGFsb2d1ZVZhcmlhbnQiOjQsIlZhcmlhbnQiOjQsIkRlcHJlY2F0ZWRCeSI6NCwiU2lnbmF0dXJlIjo0LCJDbGluaWNhbFRyaWFsIjo0LCJDdXJhdGVkQ29udGVudCI6NCwiQ2l0ZXMiOjQsIkV2aWRlbmNlTGV2ZWwiOjQsIkBjbGFzcyI6IlBlcm1pc3Npb25zIn0sIm5hbWUiOiJyZWFkb25seSIsInV1aWQiOiIyZTQwZDVjMS0zNTk4LTQzMjctOGRhOC0wYTE2Njc2MmI0NjUiLCJAcmlkIjoiIzEzOjIiLCJAY2xhc3MiOiJVc2VyR3JvdXAifV0sInNpZ25lZExpY2Vuc2VBdCI6MTYxMzAyMjM2ODg0OCwiZmlyc3RMb2dpbkF0IjoxNjE3OTk1NzMyNzYzLCJ1dWlkIjoiN2NlN2M5MDYtZGM4NS00ZTk0LWEwNGItMDY4ODVmNjA1MjFmIiwibG9naW5Db3VudCI6MywiQHJpZCI6IiMxNDo1IiwiQHZlcnNpb24iOjQsIkBjbGFzcyI6IlVzZXIifSwiaWF0IjoxNjE3OTk3Njc5fQ.C0jg4WWEe0DFlXNt2MWV3HkKJDlTae0mFTxml7yiIV8', 'url': 'https://pori-demo.bcgsc.ca/graphkb-api/api', 'username': 'colab_demo', 'password': 'colab_demo', 'headers': {'Accept': 'application/json', 'Content-Type': 'application/json', 'Authorization': 'eyJhbGciOiJIUzI1NiIsInR5cCI6IkpXVCJ9.eyJleHAiOjE2MTgwMzM2NzksInVzZXIiOnsiY3JlYXRlZEF0IjoxNjE3OTk1NTc0MDU3LCJsYXN0TG9naW5BdCI6MTYxNzk5NzQ5NTIxMSwiY3JlYXRlZEJ5IjoiIzE0OjEiLCJuYW1lIjoiY29sYWJfZGVtbyIsImdyb3VwcyI6W3siY3JlYXRlZEF0IjoxNjEyNjQwMDM1Nzg2LCJwZXJtaXNzaW9ucyI6eyJMaWNlbnNlQWdyZWVtZW50Ijo0LCJUaGVyYXB5Ijo0LCJWb2NhYnVsYXJ5Ijo0LCJCaW9tYXJrZXIiOjQsIkNhdGVnb3J5VmFyaWFudCI6NCwiVXNlciI6NCwiT250b2xvZ3kiOjQsIkRpc2Vhc2UiOjQsIkUiOjQsIlBhdGh3YXkiOjQsIkluZmVycyI6NCwiQW5hdG9taWNhbEVudGl0eSI6NCwiU3ViQ2xhc3NPZiI6NCwiRmVhdHVyZSI6NCwiU291cmNlIjo0LCJVc2VyR3JvdXAiOjQsIkFsaWFzT2YiOjQsIk9wcG9zaXRlT2YiOjQsIlYiOjQsIkV2aWRlbmNlIjo0LCJFbGVtZW50T2YiOjQsIkdlbmVyYWxpemF0aW9uT2YiOjQsIlBvc2l0aW9uYWxWYXJpYW50Ijo0LCJTdGF0ZW1lbnQiOjQsIkFic3RyYWN0Ijo0LCJQdWJsaWNhdGlvbiI6NCwiQ3Jvc3NSZWZlcmVuY2VPZiI6NCwiVGFyZ2V0T2YiOjQsIkNhdGFsb2d1ZVZhcmlhbnQiOjQsIlZhcmlhbnQiOjQsIkRlcHJlY2F0ZWRCeSI6NCwiU2lnbmF0dXJlIjo0LCJDbGluaWNhbFRyaWFsIjo0LCJDdXJhdGVkQ29udGVudCI6NCwiQ2l0ZXMiOjQsIkV2aWRlbmNlTGV2ZWwiOjQsIkBjbGFzcyI6IlBlcm1pc3Npb25zIn0sIm5hbWUiOiJyZWFkb25seSIsInV1aWQiOiIyZTQwZDVjMS0zNTk4LTQzMjctOGRhOC0wYTE2Njc2MmI0NjUiLCJAcmlkIjoiIzEzOjIiLCJAY2xhc3MiOiJVc2VyR3JvdXAifV0sInNpZ25lZExpY2Vuc2VBdCI6MTYxMzAyMjM2ODg0OCwiZmlyc3RMb2dpbkF0IjoxNjE3OTk1NzMyNzYzLCJ1dWlkIjoiN2NlN2M5MDYtZGM4NS00ZTk0LWEwNGItMDY4ODVmNjA1MjFmIiwibG9naW5Db3VudCI6MywiQHJpZCI6IiMxNDo1IiwiQHZlcnNpb24iOjQsIkBjbGFzcyI6IlVzZXIifSwiaWF0IjoxNjE3OTk3Njc5fQ.C0jg4WWEe0DFlXNt2MWV3HkKJDlTae0mFTxml7yiIV8'}, 'cache': {}, 'request_count': 1, 'first_request': None, 'last_request': None}\n",
            "KRAS:p.G12D matched 7 other variant representations\n",
            "\n",
            "KRAS:p.G12D will match KRAS:p.G12D\n",
            "KRAS:p.G12D will match chr12:g.25398284C>T\n",
            "KRAS:p.G12D will match KRAS:p.G12\n",
            "KRAS:p.G12D will match KRAS:p.(G12_G13)mut\n",
            "KRAS:p.G12D will match KRAS:p.?12mut\n",
            "KRAS:p.G12D will match KRAS:p.G12mut\n",
            "KRAS:p.G12D will match KRAS mutation\n"
          ],
          "name": "stdout"
        }
      ]
    },
    {
      "cell_type": "markdown",
      "metadata": {
        "id": "frNHL7wfBh9e"
      },
      "source": [
        "We can see above that the KRAS protein variant has been matched to a number of other less specific mentions (ex. KRAS:p.G12mut) and also genomic equivalents (chr12:g.25398284C>T). Note that the results here will be dependent on the instance of GraphKB you are accessing."
      ]
    },
    {
      "cell_type": "markdown",
      "metadata": {
        "id": "CwSqxGQMEmAH"
      },
      "source": [
        "## Annotating Variants\n",
        "\n",
        "Now that we have matched the variant we will fetch the related statements to annotate this variant with its possible relevance"
      ]
    },
    {
      "cell_type": "code",
      "metadata": {
        "colab": {
          "base_uri": "https://localhost:8080/"
        },
        "id": "4VpkF02lEuRE",
        "outputId": "69d61836-4695-4773-ef1a-b81b2b2cb5e0"
      },
      "source": [
        "from graphkb.constants import BASE_RETURN_PROPERTIES, GENERIC_RETURN_PROPERTIES\n",
        "from graphkb.util import convert_to_rid_list\n",
        "\n",
        "# return properties should be customized to the users needs\n",
        "return_props = (\n",
        "    BASE_RETURN_PROPERTIES\n",
        "    + ['sourceId', 'source.name', 'source.displayName']\n",
        "    + [f'conditions.{p}' for p in GENERIC_RETURN_PROPERTIES]\n",
        "    + [f'subject.{p}' for p in GENERIC_RETURN_PROPERTIES]\n",
        "    + [f'evidence.{p}' for p in GENERIC_RETURN_PROPERTIES]\n",
        "    + [f'relevance.{p}' for p in GENERIC_RETURN_PROPERTIES]\n",
        "    + [f'evidenceLevel.{p}' for p in GENERIC_RETURN_PROPERTIES]\n",
        ")\n",
        "\n",
        "statements = graphkb_conn.query(\n",
        "    {\n",
        "        'target': 'Statement',\n",
        "        'filters': {'conditions': convert_to_rid_list(variant_matches), 'operator': 'CONTAINSANY'},\n",
        "        'returnProperties': return_props,\n",
        "    }\n",
        ")\n",
        "print(f'annotated {len(variant_matches)} variant matches with {len(statements)} statements')\n",
        "print()\n",
        "\n",
        "for statement in statements[:5]:\n",
        "    print(\n",
        "        [c['displayName'] for c in statement['conditions'] if c['@class'].endswith('Variant')],\n",
        "        statement['relevance']['displayName'],\n",
        "        statement['subject']['displayName'],\n",
        "        statement['source']['displayName'] if statement['source'] else '',\n",
        "        [c['displayName'] for c in statement['evidence']],\n",
        "    )"
      ],
      "execution_count": null,
      "outputs": [
        {
          "output_type": "stream",
          "text": [
            "annotated 7 variant matches with 96 statements\n",
            "\n",
            "['KRAS:p.G12D'] favours diagnosis lung cancer CIViC ['pmid:23014527']\n",
            "['KRAS:p.G12D'] likely pathogenic acute myeloid leukemia DoCM ['pmid:3122217']\n",
            "['KRAS:p.G12D'] pathogenic non-small cell lung carcinoma DoCM ['pmid:18794081']\n",
            "['KRAS:p.G12D'] pathogenic colorectal cancer DoCM ['pmid:21228335']\n",
            "['KRAS:p.G12D'] likely pathogenic acute myeloid leukemia DoCM ['pmid:2278970']\n"
          ],
          "name": "stdout"
        }
      ]
    }
  ]
}